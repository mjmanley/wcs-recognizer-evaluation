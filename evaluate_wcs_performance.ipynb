{
 "cells": [
  {
   "cell_type": "code",
   "execution_count": 1,
   "metadata": {
    "collapsed": true
   },
   "outputs": [],
   "source": [
    "# Copyright 2018 Paul Thoresen (pthoresen@us.ibm.com)\n",
    "\n",
    "# Licensed under the Apache License, Version 2.0 (the \"License\");\n",
    "# you may not use this file except in compliance with the License.\n",
    "# You may obtain a copy of the License at\n",
    "\n",
    "#     http://www.apache.org/licenses/LICENSE-2.0\n",
    "\n",
    "# Unless required by applicable law or agreed to in writing, software\n",
    "# distributed under the License is distributed on an \"AS IS\" BASIS,\n",
    "# WITHOUT WARRANTIES OR CONDITIONS OF ANY KIND, either express or implied.\n",
    "# See the License for the specific language governing permissions and\n",
    "# limitations under the License."
   ]
  },
  {
   "cell_type": "markdown",
   "metadata": {},
   "source": [
    "# Watson Conversation Performance Evaluation\n",
    "\n",
    "This Notebook will allow a developer to test the intent recognition capabilities of a Watson Conversation workspace. The script will provide precision, recall, and F1 scores by class and in total, as well as a representative confusion matrix.\n",
    "\n",
    "There are two ways to use the notebook. The model can be provided a set of data in CSV form to split into test and train sets. The WCS model will be cleared of all existing intent data and retrained with the training data set. The performance will then be evaluated with the training data set.\n",
    "\n",
    "Alternatively, the notebook can use CSV data set that represents the test data. In this case, the existing model will not be retrained, but instead will only be evaluated using the provided training set."
   ]
  },
  {
   "cell_type": "markdown",
   "metadata": {},
   "source": [
    "## Set up the Environment\n",
    "\n",
    "Load the required libraries and set up any required credentials"
   ]
  },
  {
   "cell_type": "code",
   "execution_count": 2,
   "metadata": {
    "collapsed": true
   },
   "outputs": [],
   "source": [
    "from watson_developer_cloud import ConversationV1, WatsonException\n",
    "import pandas as pd\n",
    "import numpy as np\n",
    "from time import sleep\n",
    "from sklearn.model_selection import train_test_split\n",
    "from sklearn.metrics import confusion_matrix, precision_recall_fscore_support\n",
    "from tqdm import tnrange, tqdm_notebook\n",
    "import matplotlib.pyplot as plt"
   ]
  },
  {
   "cell_type": "code",
   "execution_count": 3,
   "metadata": {
    "collapsed": true
   },
   "outputs": [],
   "source": [
    "# Setup our WCS Workspace Target\n",
    "try:\n",
    "    # either load from credential file\n",
    "    # credential file should follow the following pattern of unescaped\n",
    "    # statements\n",
    "    #\n",
    "    # conversation_username = ''\n",
    "    # conversation_password = ''\n",
    "    # version = ''\n",
    "    # workspace_id = ''\n",
    "    # \n",
    "    from _credentials import *\n",
    "except:\n",
    "    # or define credentials\n",
    "    conversation_username = ''\n",
    "    conversation_password = ''\n",
    "    version = ''\n",
    "    workspace_id = ''"
   ]
  },
  {
   "cell_type": "markdown",
   "metadata": {},
   "source": [
    "## Define the helper functions\n",
    "\n",
    "Define the functions that are required as part of the larger, composite function"
   ]
  },
  {
   "cell_type": "code",
   "execution_count": 4,
   "metadata": {
    "collapsed": true
   },
   "outputs": [],
   "source": [
    "def get_intent_df(csvFile):\n",
    "    \"\"\" get a dataframe with our intent data from a csv\n",
    "    CSV file will be of the following structure:\n",
    "    intent,example\n",
    "    \n",
    "    parameters:\n",
    "    csvFile: {string} path to csvFile\n",
    "    \"\"\"\n",
    "    # Read CSV\n",
    "    intent_data = pd.read_csv(\n",
    "        csvFile,\n",
    "        dtype='str',\n",
    "        keep_default_na=False)\n",
    "    \n",
    "    # Validate columns\n",
    "    if not all(x in intent_data.columns for x in ['example', 'intent']):\n",
    "        raise ValueError('Invalid CSV. Expects columns of \"example\" and \"intent\"')\n",
    "    return intent_data"
   ]
  },
  {
   "cell_type": "code",
   "execution_count": 5,
   "metadata": {
    "collapsed": true
   },
   "outputs": [],
   "source": [
    "def clear_existing_intents(conversation, workspace_id):\n",
    "    \"\"\" delete all existing intents from a conversation workspace\n",
    "    \n",
    "    parameters:\n",
    "    conversation: {ConversationV1} instance\n",
    "    workspace_id: {string} WCS workspace id\n",
    "    \"\"\"\n",
    "    # destroy any existing intents\n",
    "    try:\n",
    "        intents = [x['intent'] for x in conversation.list_intents(workspace_id, page_limit=500)['intents']]\n",
    "        for intent in intents:\n",
    "            conversation.delete_intent(workspace_id, intent)\n",
    "    except WatsonExcpion as e:\n",
    "        raise RuntimeError('Unable to clear intents from workspace')"
   ]
  },
  {
   "cell_type": "code",
   "execution_count": 6,
   "metadata": {
    "collapsed": true
   },
   "outputs": [],
   "source": [
    "def get_train_test_set(intent_data, test_ratio):\n",
    "    \"\"\" return a balanced train/test set from the intent data\n",
    "    \n",
    "    parameters:\n",
    "    intent_data: {DataFrame} intent data. Expects columns of 'intent,example'\n",
    "    test_ratio: {float} 0 - 1 representing ratio of rows to set aside as \n",
    "        test set\n",
    "        \n",
    "    returns:\n",
    "    train: {DataFrame} training data with columns of 'intent,example'\n",
    "    test: {DataFrame} testing data with columns of 'intent,example'\n",
    "    \"\"\"\n",
    "    train = None\n",
    "    test = None\n",
    "    # split on each intent separately to distribute data equally in unbalanced\n",
    "    # data sets\n",
    "    for intent in intent_data['intent'].unique():\n",
    "        # get train/test splits on each set\n",
    "        intent_train, intent_test = train_test_split(\n",
    "            intent_data.query(\n",
    "                'intent == \"{}\"'.format(intent)\n",
    "            ), \n",
    "            test_size=test_ratio)\n",
    "        \n",
    "        # append train\n",
    "        if train is None:\n",
    "            train = intent_train\n",
    "        else:\n",
    "            train = train.append(intent_train)\n",
    "        # append test    \n",
    "        if test is None:\n",
    "            test = intent_test\n",
    "        else:\n",
    "            test = test.append(intent_test)\n",
    "    \n",
    "    return train, test"
   ]
  },
  {
   "cell_type": "code",
   "execution_count": 7,
   "metadata": {
    "collapsed": true
   },
   "outputs": [],
   "source": [
    "def create_intents(intent_data, conversation, workspace_id):\n",
    "    \"\"\" creates intents and examples from a given set\n",
    "    \n",
    "    parameters:\n",
    "    intent_data: {DataFrame} intent data. Expects columns of 'intent,example'\n",
    "    conversation: {ConversationV1} WDC WCS SDK instance\n",
    "    workspace_id: {string} WCS workspace id\n",
    "    \"\"\"\n",
    "    for intent in intent_data['intent'].unique():\n",
    "        intent_set = intent_data.query(\n",
    "                'intent == \"{}\"'.format(intent))\n",
    "        \n",
    "        _examples_text = set([x['example'] for _, x in intent_set.iterrows()])\n",
    "        examples = [{\"text\": x} for x in _examples_text]\n",
    "        conversation.create_intent(workspace_id=workspace_id, \n",
    "                                           intent=intent, \n",
    "                                           description=None, \n",
    "                                           examples=examples)"
   ]
  },
  {
   "cell_type": "code",
   "execution_count": 8,
   "metadata": {
    "collapsed": true
   },
   "outputs": [],
   "source": [
    "def poll_when_ready(conversation, workspace_id, max_tries):\n",
    "    \"\"\" creates intents and examples from a given set\n",
    "    \n",
    "    parameters:\n",
    "    intent_data: {DataFrame} intent data. Expects columns of 'intent,example'\n",
    "    conversation: {ConversationV1} WDC WCS SDK instance\n",
    "    workspace_id: {string} WCS workspace id\n",
    "    max_tries: {integer} maximum number of tries before raising error\n",
    "    \"\"\"\n",
    "    ready = False\n",
    "    tries = 0\n",
    "    if max_tries < 0:\n",
    "        raise ValueError('max_tries cannot be less than 0')\n",
    "    while not ready:\n",
    "        if tries > max_tries:\n",
    "            raise RuntimeError('Model could not train')\n",
    "        _res = conversation.get_workspace(\n",
    "            workspace_id = workspace_id)\n",
    "        if (_res['status'].lower() == 'available'):\n",
    "            break\n",
    "        else:\n",
    "            print('.', end='')\n",
    "            sleep(5)\n",
    "    print('')\n",
    "        \n",
    "            \n",
    "    \n",
    "    "
   ]
  },
  {
   "cell_type": "code",
   "execution_count": 9,
   "metadata": {
    "collapsed": true
   },
   "outputs": [],
   "source": [
    "def test_model(intent_data, conversation, workspace_id):\n",
    "    \"\"\" tests a set of intents against the WCS model\n",
    "    \n",
    "    parameters:\n",
    "    intent_data: {DataFrame} intent data. Expects columns of 'intent,example'\n",
    "    conversation: {ConversationV1} WDC WCS SDK instance\n",
    "    workspace_id: {string} WCS workspace id\n",
    "    \n",
    "    returns:\n",
    "    results: {DataFrame} of results with predictions\n",
    "    \"\"\"\n",
    "    predictions = []\n",
    "    results = intent_data.copy()\n",
    "    for i in tnrange(len(intent_data), desc='progress'):\n",
    "        try:\n",
    "            _res = conversation.message(\n",
    "                workspace_id=workspace_id,\n",
    "                input={\n",
    "                    'text': intent_data.iloc[i]['example']\n",
    "                }\n",
    "            )\n",
    "\n",
    "            if len(_res['intents']) > 0:\n",
    "                predictions.append(_res['intents'][0]['intent'])\n",
    "            else:\n",
    "                predictions.append('NO_CONFIDENCE')\n",
    "        except WatsonException as e:\n",
    "            predictions.append('WCS_ERROR')\n",
    "    results['prediction'] = pd.Series(np.array(predictions), index=intent_data.index)\n",
    "    return results\n",
    "        "
   ]
  },
  {
   "cell_type": "code",
   "execution_count": 10,
   "metadata": {
    "collapsed": true
   },
   "outputs": [],
   "source": [
    "def get_classification_scores(results):\n",
    "    \"\"\" scores a results set for precision, recall, f1-score, and support\n",
    "    \n",
    "    parameters:\n",
    "    results: {DataFrame} results data. Expects columns of 'intent,example,prediction'\n",
    "    \n",
    "    returns:\n",
    "    results_df: {DataFrame} results with scores by class\n",
    "    results_total_df: {DataFrame} results with scores cumulative\n",
    "    \"\"\"\n",
    "    labels = list(results['intent'].unique())\n",
    "    precision, recall, fscore, support = \\\n",
    "        precision_recall_fscore_support(\n",
    "                list(results['intent']),\n",
    "                list(results['prediction']),\n",
    "                labels=labels,\n",
    "                average=None)\n",
    "    \n",
    "    metrics = np.array([\n",
    "        precision,\n",
    "        recall,\n",
    "        fscore,\n",
    "        support\n",
    "    ])\n",
    "    results_df = pd.DataFrame(data=metrics, index=['precision', 'recall', 'f-score', 'support'], columns=labels)\n",
    "    \n",
    "    precision_total, recall_total, fscore_total, support_total = \\\n",
    "        precision_recall_fscore_support(\n",
    "                list(results['intent']),\n",
    "                list(results['prediction']),\n",
    "                labels=labels,\n",
    "                average='micro')\n",
    "    \n",
    "    metrics_total = np.array([\n",
    "        precision_total,\n",
    "        recall_total,\n",
    "        fscore_total,\n",
    "        support_total\n",
    "    ])\n",
    "    \n",
    "    results_total_df = pd.DataFrame(data=metrics_total, index=['precision', 'recall', 'f-score', 'support'], columns=['TOTAL'])\n",
    "    \n",
    "    return results_df, results_total_df"
   ]
  },
  {
   "cell_type": "code",
   "execution_count": 11,
   "metadata": {
    "collapsed": true
   },
   "outputs": [],
   "source": [
    "def generate_confusion_matrix(results, normalized):\n",
    "    \"\"\" generate a confusion matrix\n",
    "    \n",
    "    parameters:\n",
    "    results: {DataFrame} results data. Expects columns of 'example,prediction'\n",
    "    normalized: {Boolean} if True, divide the occurances of each predicted\n",
    "        class by the support for that class\n",
    "    \"\"\"\n",
    "    labels = list(results['intent'].unique())\n",
    "    matrix = confusion_matrix(\n",
    "                list(results['intent']),\n",
    "                list(results['prediction']),\n",
    "                labels=labels)\n",
    "    \n",
    "    if normalized:\n",
    "        row_sum = matrix.sum(axis=1)\n",
    "        matrix = matrix/(row_sum.reshape(len(row_sum), 1))\n",
    "        \n",
    "    fig = plt.figure(figsize=(10, 10))\n",
    "    ax = fig.add_subplot(111)\n",
    "    ax.set_aspect(1)\n",
    "    res = ax.imshow(matrix, cmap='Blues', \n",
    "                interpolation='nearest')\n",
    "    \n",
    "    width, height = matrix.shape\n",
    "    \n",
    "    for x in range(width):\n",
    "        for y in range(height):\n",
    "            if normalized:\n",
    "                fstr = '{:.0%}'\n",
    "            else:\n",
    "                fstr = '{}'\n",
    "            ax.annotate(str(fstr.format(matrix[x][y])), \n",
    "                        xy=(y, x), \n",
    "                        horizontalalignment='center',\n",
    "                        verticalalignment='center',\n",
    "                        backgroundcolor='white',\n",
    "                        size='medium')\n",
    "    plt.xticks(np.arange(len(labels)), labels)\n",
    "    plt.yticks(np.arange(len(labels)), labels)\n",
    "    plt.xlabel('Predicted Class')\n",
    "    plt.ylabel('Actual Class')\n",
    "    plt.title('Confusion Matrix')\n",
    "    plt.show()"
   ]
  },
  {
   "cell_type": "markdown",
   "metadata": {},
   "source": [
    "## Define the composite function\n",
    "\n",
    "This is the function that will put the pieces together and evaluate the performance of the WCS model as specified"
   ]
  },
  {
   "cell_type": "code",
   "execution_count": 12,
   "metadata": {
    "collapsed": true
   },
   "outputs": [],
   "source": [
    "def test_wcs_model(\n",
    "        conversation_username=None,\n",
    "        conversation_password=None,\n",
    "        version=None, \n",
    "        workspace_id=None, \n",
    "        csvFile=None,\n",
    "        test_only=False,\n",
    "        clear_existing=False,\n",
    "        test_ratio=0.2,\n",
    "        normalize=True):\n",
    "    \"\"\" Load intent data from a CSV file\n",
    "\n",
    "    CSV file will be of the following structure:\n",
    "    intent,example\n",
    "    \n",
    "    remove statments will be executed first, then adds will be grouped\n",
    "    and executed as a single statement. adds are additive with existing\n",
    "    data and will not replace existing data unless the 'clear_existing'\n",
    "    option is True\n",
    "\n",
    "    parameters:\n",
    "    conversation_username: {string} username for WCS instance\n",
    "    conversation_password: {string} password for WCS instance\n",
    "    version: {string} version of WCS API\n",
    "    workspace_id: {string} workspace_id for WCS instance\n",
    "    csvFile: {string} path to csvFile\n",
    "    test_only: {boolean} if True, the CSV will be tested in entirety\n",
    "        against a trained WCS workspace. if False, the workspace will\n",
    "        have intents cleared and retrained using a test/train split on\n",
    "        the CSV data\n",
    "    clear_existing: {boolean} Required to be specified before a\n",
    "        destructive action can be taken. This will prevent a developer \n",
    "        from unknowingly deleting parts of their model.\n",
    "    test_ratio: {float} a float between 0 - 1 that represents the ratio\n",
    "        of test data to training data\n",
    "    normalize: {Boolean} if True, normalize the confusion matrix\n",
    "    \"\"\"\n",
    "    if not test_only:\n",
    "        if clear_existing != True:\n",
    "            print(('please set argument \"clear_existing\" to True '\n",
    "                   'to acknlowedge that existing data will be cleared'))\n",
    "            raise ValueError('Destructive action requires confirmation')\n",
    "    \n",
    "    # validate that values are provided\n",
    "    args = locals()\n",
    "    for key in args:\n",
    "        if args[key] is None:\n",
    "            raise ValueError(\"Argument '{}' requires a value\".format(key))\n",
    "    \n",
    "    # setup conversation class\n",
    "    conversation = ConversationV1(\n",
    "        username=conversation_username,\n",
    "        password=conversation_password,\n",
    "        version= version\n",
    "    )\n",
    "    \n",
    "    # load the intent data csv\n",
    "    intent_data = get_intent_df(csvFile)\n",
    "    \n",
    "    if not test_only:\n",
    "        # clean up the workspace\n",
    "        print('clearing all intents from workspace')\n",
    "        clear_existing_intents(conversation, workspace_id)\n",
    "\n",
    "        # get train, test data\n",
    "        train, test = get_train_test_set(intent_data, test_ratio)\n",
    "\n",
    "        # create intents\n",
    "        print('creating intents and training model')\n",
    "        create_intents(train, conversation, workspace_id)\n",
    "    else:\n",
    "        train = intent_data\n",
    "        \n",
    "    # wait for training\n",
    "    poll_when_ready(conversation, workspace_id, 50)\n",
    "    \n",
    "    # test model\n",
    "    print('testing model')\n",
    "    results = test_model(test, conversation, workspace_id)\n",
    "    \n",
    "    # get metrics\n",
    "    scores_class, scores_total = get_classification_scores(results)\n",
    "    print('Class Metrics', end='\\n\\n')\n",
    "    print(scores_class, end='\\n\\n')\n",
    "    print('Total Metrics', end='\\n\\n')\n",
    "    print(scores_total, end='\\n\\n')\n",
    "    \n",
    "    # plot confusion matrix\n",
    "    generate_confusion_matrix(results, normalize)\n",
    "    \n",
    "    return results, scores_class, scores_total\n",
    "\n",
    "    \n",
    "    "
   ]
  },
  {
   "cell_type": "markdown",
   "metadata": {},
   "source": [
    "## Evaluate the Model\n",
    "\n",
    "Evaluate the specified model"
   ]
  },
  {
   "cell_type": "code",
   "execution_count": 13,
   "metadata": {},
   "outputs": [
    {
     "name": "stdout",
     "output_type": "stream",
     "text": [
      "clearing all intents from workspace\n",
      "creating intents and training model\n",
      "....\n",
      "testing model\n"
     ]
    },
    {
     "data": {
      "application/vnd.jupyter.widget-view+json": {
       "model_id": "d700fb4c05784096b7e63d31bb5c8eb5",
       "version_major": 2,
       "version_minor": 0
      },
      "text/plain": [
       "A Jupyter Widget"
      ]
     },
     "metadata": {},
     "output_type": "display_data"
    },
    {
     "name": "stdout",
     "output_type": "stream",
     "text": [
      "\n",
      "Class Metrics\n",
      "\n",
      "                SHOP    SERVICE  QUOTE\n",
      "precision   0.954545   0.933333    1.0\n",
      "recall      0.913043   0.933333    1.0\n",
      "f-score     0.933333   0.933333    1.0\n",
      "support    23.000000  30.000000   23.0\n",
      "\n",
      "Total Metrics\n",
      "\n",
      "              TOTAL\n",
      "precision      0.96\n",
      "recall     0.947368\n",
      "f-score    0.953642\n",
      "support        None\n",
      "\n"
     ]
    },
    {
     "data": {
      "image/png": "[encoded data removed]",
      "text/plain": [
       "<matplotlib.figure.Figure at 0x1a0cff2c50>"
      ]
     },
     "metadata": {},
     "output_type": "display_data"
    }
   ],
   "source": [
    "results, metrics_class, metrics_total = test_wcs_model(conversation_username=conversation_username,\n",
    "                            conversation_password=conversation_password,\n",
    "                            version=version, \n",
    "                            workspace_id=workspace_id,\n",
    "                            csvFile='example_data/examples.csv',\n",
    "                            test_only=False,\n",
    "                            clear_existing=True,\n",
    "                            test_ratio=0.5,\n",
    "                            normalize=True)"
   ]
  }
 ],
 "metadata": {
  "kernelspec": {
   "display_name": "Python 3",
   "language": "python",
   "name": "python3"
  },
  "language_info": {
   "codemirror_mode": {
    "name": "ipython",
    "version": 3
   },
   "file_extension": ".py",
   "mimetype": "text/x-python",
   "name": "python",
   "nbconvert_exporter": "python",
   "pygments_lexer": "ipython3",
   "version": "3.6.4"
  }
 },
 "nbformat": 4,
 "nbformat_minor": 2
}
